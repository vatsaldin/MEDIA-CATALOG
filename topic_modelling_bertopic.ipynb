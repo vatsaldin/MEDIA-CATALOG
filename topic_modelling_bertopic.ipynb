{
 "cells": [
  {
   "cell_type": "code",
   "execution_count": 1,
   "metadata": {},
   "outputs": [
    {
     "data": {
      "text/plain": [
       "True"
      ]
     },
     "execution_count": 1,
     "metadata": {},
     "output_type": "execute_result"
    }
   ],
   "source": [
    "import pandas as pd\n",
    "import numpy as np\n",
    "from bertopic import BERTopic\n",
    "import openai\n",
    "from bertopic.representation import OpenAI\n",
    "import os\n",
    "from dotenv import load_dotenv\n",
    "load_dotenv() \n"
   ]
  },
  {
   "cell_type": "code",
   "execution_count": 3,
   "metadata": {},
   "outputs": [],
   "source": [
    "df =  pd.read_csv(\"video_audio_merged_files_transcript.csv\", encoding='utf-8')\n",
    "\n",
    "# Remove nan/blank values from the dataframe for column Transcript\n",
    "df = df.dropna(subset=['Transcript'])\n",
    "docs = df.Transcript.to_list()"
   ]
  },
  {
   "cell_type": "code",
   "execution_count": 20,
   "metadata": {},
   "outputs": [],
   "source": [
    "# Fine-tune topic representations with GPT\n",
    "client = openai.OpenAI(api_key=os.getenv('OPENAI_API_KEY'))\n",
    "representation_model = OpenAI(client, model=os.getenv('OPENAI_MODEL_GPT4_TURBO'), chat=True)\n",
    "topic_model = BERTopic(representation_model=representation_model)\n"
   ]
  },
  {
   "cell_type": "code",
   "execution_count": 21,
   "metadata": {},
   "outputs": [
    {
     "name": "stderr",
     "output_type": "stream",
     "text": [
      "huggingface/tokenizers: The current process just got forked, after parallelism has already been used. Disabling parallelism to avoid deadlocks...\n",
      "To disable this warning, you can either:\n",
      "\t- Avoid using `tokenizers` before the fork if possible\n",
      "\t- Explicitly set the environment variable TOKENIZERS_PARALLELISM=(true | false)\n"
     ]
    }
   ],
   "source": [
    "topic_model = BERTopic(representation_model=representation_model)\n",
    "topics, probabilities = topic_model.fit_transform(docs)"
   ]
  },
  {
   "cell_type": "code",
   "execution_count": null,
   "metadata": {},
   "outputs": [],
   "source": [
    "topic_model.save(\"../model/my_ml_topicmodel\", serialization=\"safetensors\")\n",
    "\n",
    "# Use the below code to load the model saved/trained locally\n",
    "#topic_model = BERTopic.load(\"../model/my_ml_topicmodel\")"
   ]
  },
  {
   "cell_type": "code",
   "execution_count": 23,
   "metadata": {},
   "outputs": [
    {
     "data": {
      "text/plain": [
       "[('Activation Functions and Gradient Problems in Neural Networks', 1)]"
      ]
     },
     "execution_count": 23,
     "metadata": {},
     "output_type": "execute_result"
    }
   ],
   "source": [
    "topic_model.get_topic(2)"
   ]
  },
  {
   "cell_type": "code",
   "execution_count": 25,
   "metadata": {},
   "outputs": [],
   "source": [
    "result = topic_model.get_document_info(docs)\n"
   ]
  },
  {
   "cell_type": "code",
   "execution_count": 27,
   "metadata": {},
   "outputs": [
    {
     "data": {
      "text/html": [
       "<div>\n",
       "<style scoped>\n",
       "    .dataframe tbody tr th:only-of-type {\n",
       "        vertical-align: middle;\n",
       "    }\n",
       "\n",
       "    .dataframe tbody tr th {\n",
       "        vertical-align: top;\n",
       "    }\n",
       "\n",
       "    .dataframe thead th {\n",
       "        text-align: right;\n",
       "    }\n",
       "</style>\n",
       "<table border=\"1\" class=\"dataframe\">\n",
       "  <thead>\n",
       "    <tr style=\"text-align: right;\">\n",
       "      <th></th>\n",
       "      <th>Document</th>\n",
       "      <th>Topic</th>\n",
       "      <th>Name</th>\n",
       "      <th>Representation</th>\n",
       "      <th>Representative_Docs</th>\n",
       "      <th>Top_n_words</th>\n",
       "      <th>Probability</th>\n",
       "      <th>Representative_document</th>\n",
       "    </tr>\n",
       "  </thead>\n",
       "  <tbody>\n",
       "    <tr>\n",
       "      <th>0</th>\n",
       "      <td>Two random variables in medicine, right? Let'...</td>\n",
       "      <td>0</td>\n",
       "      <td>0_Statistical Analysis and Probability Distrib...</td>\n",
       "      <td>[Statistical Analysis and Probability Distribu...</td>\n",
       "      <td>[ Let's learn a very interesting test called K...</td>\n",
       "      <td>Statistical Analysis and Probability Distribut...</td>\n",
       "      <td>0.519439</td>\n",
       "      <td>False</td>\n",
       "    </tr>\n",
       "    <tr>\n",
       "      <th>1</th>\n",
       "      <td>Now let's understand what are the business ob...</td>\n",
       "      <td>-1</td>\n",
       "      <td>-1_SageMaker and Machine Learning Tools Explor...</td>\n",
       "      <td>[SageMaker and Machine Learning Tools Explorat...</td>\n",
       "      <td>[ So why is this useful? Imagine the first bro...</td>\n",
       "      <td>SageMaker and Machine Learning Tools Exploration</td>\n",
       "      <td>0.000000</td>\n",
       "      <td>False</td>\n",
       "    </tr>\n",
       "    <tr>\n",
       "      <th>2</th>\n",
       "      <td>So now let's revisit what types of activation...</td>\n",
       "      <td>2</td>\n",
       "      <td>2_Activation Functions and Gradient Problems i...</td>\n",
       "      <td>[Activation Functions and Gradient Problems in...</td>\n",
       "      <td>[ 80s, 90s and even early 2000s, one of the bi...</td>\n",
       "      <td>Activation Functions and Gradient Problems in ...</td>\n",
       "      <td>0.404196</td>\n",
       "      <td>True</td>\n",
       "    </tr>\n",
       "    <tr>\n",
       "      <th>3</th>\n",
       "      <td>in various areas involving data manipulation ...</td>\n",
       "      <td>3</td>\n",
       "      <td>3_Deployment and Productionization of Machine ...</td>\n",
       "      <td>[Deployment and Productionization of Machine L...</td>\n",
       "      <td>[ So research scientists, machine learning fol...</td>\n",
       "      <td>Deployment and Productionization of Machine Le...</td>\n",
       "      <td>0.503004</td>\n",
       "      <td>False</td>\n",
       "    </tr>\n",
       "    <tr>\n",
       "      <th>4</th>\n",
       "      <td>It changes the value of covariance, but not t...</td>\n",
       "      <td>0</td>\n",
       "      <td>0_Statistical Analysis and Probability Distrib...</td>\n",
       "      <td>[Statistical Analysis and Probability Distribu...</td>\n",
       "      <td>[ Let's learn a very interesting test called K...</td>\n",
       "      <td>Statistical Analysis and Probability Distribut...</td>\n",
       "      <td>0.523884</td>\n",
       "      <td>False</td>\n",
       "    </tr>\n",
       "    <tr>\n",
       "      <th>...</th>\n",
       "      <td>...</td>\n",
       "      <td>...</td>\n",
       "      <td>...</td>\n",
       "      <td>...</td>\n",
       "      <td>...</td>\n",
       "      <td>...</td>\n",
       "      <td>...</td>\n",
       "      <td>...</td>\n",
       "    </tr>\n",
       "    <tr>\n",
       "      <th>563</th>\n",
       "      <td>Tagging is a very very interesting case study...</td>\n",
       "      <td>4</td>\n",
       "      <td>4_Data Analysis and Machine Learning Model Imp...</td>\n",
       "      <td>[Data Analysis and Machine Learning Model Impl...</td>\n",
       "      <td>[ So now in this assignment you have to comput...</td>\n",
       "      <td>Data Analysis and Machine Learning Model Imple...</td>\n",
       "      <td>0.867721</td>\n",
       "      <td>False</td>\n",
       "    </tr>\n",
       "    <tr>\n",
       "      <th>564</th>\n",
       "      <td>So now I have my total data of about a millio...</td>\n",
       "      <td>4</td>\n",
       "      <td>4_Data Analysis and Machine Learning Model Imp...</td>\n",
       "      <td>[Data Analysis and Machine Learning Model Impl...</td>\n",
       "      <td>[ So now in this assignment you have to comput...</td>\n",
       "      <td>Data Analysis and Machine Learning Model Imple...</td>\n",
       "      <td>0.887772</td>\n",
       "      <td>False</td>\n",
       "    </tr>\n",
       "    <tr>\n",
       "      <th>565</th>\n",
       "      <td>One of the questions you might wonder is for ...</td>\n",
       "      <td>-1</td>\n",
       "      <td>-1_SageMaker and Machine Learning Tools Explor...</td>\n",
       "      <td>[SageMaker and Machine Learning Tools Explorat...</td>\n",
       "      <td>[ So why is this useful? Imagine the first bro...</td>\n",
       "      <td>SageMaker and Machine Learning Tools Exploration</td>\n",
       "      <td>0.000000</td>\n",
       "      <td>False</td>\n",
       "    </tr>\n",
       "    <tr>\n",
       "      <th>566</th>\n",
       "      <td>of minutes I'll test if everything is all rig...</td>\n",
       "      <td>3</td>\n",
       "      <td>3_Deployment and Productionization of Machine ...</td>\n",
       "      <td>[Deployment and Productionization of Machine L...</td>\n",
       "      <td>[ So research scientists, machine learning fol...</td>\n",
       "      <td>Deployment and Productionization of Machine Le...</td>\n",
       "      <td>1.000000</td>\n",
       "      <td>False</td>\n",
       "    </tr>\n",
       "    <tr>\n",
       "      <th>567</th>\n",
       "      <td>So it was good. I also took a few deep breath...</td>\n",
       "      <td>7</td>\n",
       "      <td>7_Neural Network Training and Optimization</td>\n",
       "      <td>[Neural Network Training and Optimization]</td>\n",
       "      <td>[ Now let us understand a recurrera neural net...</td>\n",
       "      <td>Neural Network Training and Optimization</td>\n",
       "      <td>0.850159</td>\n",
       "      <td>False</td>\n",
       "    </tr>\n",
       "  </tbody>\n",
       "</table>\n",
       "<p>568 rows × 8 columns</p>\n",
       "</div>"
      ],
      "text/plain": [
       "                                              Document  Topic  \\\n",
       "0     Two random variables in medicine, right? Let'...      0   \n",
       "1     Now let's understand what are the business ob...     -1   \n",
       "2     So now let's revisit what types of activation...      2   \n",
       "3     in various areas involving data manipulation ...      3   \n",
       "4     It changes the value of covariance, but not t...      0   \n",
       "..                                                 ...    ...   \n",
       "563   Tagging is a very very interesting case study...      4   \n",
       "564   So now I have my total data of about a millio...      4   \n",
       "565   One of the questions you might wonder is for ...     -1   \n",
       "566   of minutes I'll test if everything is all rig...      3   \n",
       "567   So it was good. I also took a few deep breath...      7   \n",
       "\n",
       "                                                  Name  \\\n",
       "0    0_Statistical Analysis and Probability Distrib...   \n",
       "1    -1_SageMaker and Machine Learning Tools Explor...   \n",
       "2    2_Activation Functions and Gradient Problems i...   \n",
       "3    3_Deployment and Productionization of Machine ...   \n",
       "4    0_Statistical Analysis and Probability Distrib...   \n",
       "..                                                 ...   \n",
       "563  4_Data Analysis and Machine Learning Model Imp...   \n",
       "564  4_Data Analysis and Machine Learning Model Imp...   \n",
       "565  -1_SageMaker and Machine Learning Tools Explor...   \n",
       "566  3_Deployment and Productionization of Machine ...   \n",
       "567         7_Neural Network Training and Optimization   \n",
       "\n",
       "                                        Representation  \\\n",
       "0    [Statistical Analysis and Probability Distribu...   \n",
       "1    [SageMaker and Machine Learning Tools Explorat...   \n",
       "2    [Activation Functions and Gradient Problems in...   \n",
       "3    [Deployment and Productionization of Machine L...   \n",
       "4    [Statistical Analysis and Probability Distribu...   \n",
       "..                                                 ...   \n",
       "563  [Data Analysis and Machine Learning Model Impl...   \n",
       "564  [Data Analysis and Machine Learning Model Impl...   \n",
       "565  [SageMaker and Machine Learning Tools Explorat...   \n",
       "566  [Deployment and Productionization of Machine L...   \n",
       "567         [Neural Network Training and Optimization]   \n",
       "\n",
       "                                   Representative_Docs  \\\n",
       "0    [ Let's learn a very interesting test called K...   \n",
       "1    [ So why is this useful? Imagine the first bro...   \n",
       "2    [ 80s, 90s and even early 2000s, one of the bi...   \n",
       "3    [ So research scientists, machine learning fol...   \n",
       "4    [ Let's learn a very interesting test called K...   \n",
       "..                                                 ...   \n",
       "563  [ So now in this assignment you have to comput...   \n",
       "564  [ So now in this assignment you have to comput...   \n",
       "565  [ So why is this useful? Imagine the first bro...   \n",
       "566  [ So research scientists, machine learning fol...   \n",
       "567  [ Now let us understand a recurrera neural net...   \n",
       "\n",
       "                                           Top_n_words  Probability  \\\n",
       "0    Statistical Analysis and Probability Distribut...     0.519439   \n",
       "1     SageMaker and Machine Learning Tools Exploration     0.000000   \n",
       "2    Activation Functions and Gradient Problems in ...     0.404196   \n",
       "3    Deployment and Productionization of Machine Le...     0.503004   \n",
       "4    Statistical Analysis and Probability Distribut...     0.523884   \n",
       "..                                                 ...          ...   \n",
       "563  Data Analysis and Machine Learning Model Imple...     0.867721   \n",
       "564  Data Analysis and Machine Learning Model Imple...     0.887772   \n",
       "565   SageMaker and Machine Learning Tools Exploration     0.000000   \n",
       "566  Deployment and Productionization of Machine Le...     1.000000   \n",
       "567           Neural Network Training and Optimization     0.850159   \n",
       "\n",
       "     Representative_document  \n",
       "0                      False  \n",
       "1                      False  \n",
       "2                       True  \n",
       "3                      False  \n",
       "4                      False  \n",
       "..                       ...  \n",
       "563                    False  \n",
       "564                    False  \n",
       "565                    False  \n",
       "566                    False  \n",
       "567                    False  \n",
       "\n",
       "[568 rows x 8 columns]"
      ]
     },
     "execution_count": 27,
     "metadata": {},
     "output_type": "execute_result"
    }
   ],
   "source": [
    "result"
   ]
  },
  {
   "cell_type": "code",
   "execution_count": null,
   "metadata": {},
   "outputs": [],
   "source": [
    "topic_model.visualize_topics()\n"
   ]
  },
  {
   "cell_type": "code",
   "execution_count": 29,
   "metadata": {},
   "outputs": [],
   "source": [
    "final_result = pd.merge(df, result, left_index=True, right_index=True)\n",
    "final_result.to_csv(\"../data/video_audio_transcript_bertopic.csv\", encoding='utf-8')"
   ]
  }
 ],
 "metadata": {
  "kernelspec": {
   "display_name": "Python 3",
   "language": "python",
   "name": "python3"
  },
  "language_info": {
   "codemirror_mode": {
    "name": "ipython",
    "version": 3
   },
   "file_extension": ".py",
   "mimetype": "text/x-python",
   "name": "python",
   "nbconvert_exporter": "python",
   "pygments_lexer": "ipython3",
   "version": "3.8.18"
  }
 },
 "nbformat": 4,
 "nbformat_minor": 2
}
