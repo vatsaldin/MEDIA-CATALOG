{
 "cells": [
  {
   "cell_type": "code",
   "execution_count": 2,
   "metadata": {},
   "outputs": [],
   "source": [
    "import pandas as pd \n",
    "\n",
    "\n",
    "\n",
    "# Use the file name created with list_files.py \n",
    "df = pd.read_csv(\"new_applied_ai_files.csv\", encoding='utf-8')"
   ]
  },
  {
   "cell_type": "code",
   "execution_count": 3,
   "metadata": {},
   "outputs": [
    {
     "data": {
      "text/html": [
       "<div>\n",
       "<style scoped>\n",
       "    .dataframe tbody tr th:only-of-type {\n",
       "        vertical-align: middle;\n",
       "    }\n",
       "\n",
       "    .dataframe tbody tr th {\n",
       "        vertical-align: top;\n",
       "    }\n",
       "\n",
       "    .dataframe thead th {\n",
       "        text-align: right;\n",
       "    }\n",
       "</style>\n",
       "<table border=\"1\" class=\"dataframe\">\n",
       "  <thead>\n",
       "    <tr style=\"text-align: right;\">\n",
       "      <th></th>\n",
       "      <th>File Path</th>\n",
       "      <th>File Name</th>\n",
       "      <th>Extension</th>\n",
       "    </tr>\n",
       "  </thead>\n",
       "  <tbody>\n",
       "    <tr>\n",
       "      <th>count</th>\n",
       "      <td>134279</td>\n",
       "      <td>134279</td>\n",
       "      <td>133721</td>\n",
       "    </tr>\n",
       "    <tr>\n",
       "      <th>unique</th>\n",
       "      <td>134279</td>\n",
       "      <td>134242</td>\n",
       "      <td>51</td>\n",
       "    </tr>\n",
       "    <tr>\n",
       "      <th>top</th>\n",
       "      <td>/media/vatsal/New Volume2/AppliedAI Course Con...</td>\n",
       "      <td>/media/vatsal/New Volume2/AppliedAI Course Con...</td>\n",
       "      <td>.txt</td>\n",
       "    </tr>\n",
       "    <tr>\n",
       "      <th>freq</th>\n",
       "      <td>1</td>\n",
       "      <td>3</td>\n",
       "      <td>130816</td>\n",
       "    </tr>\n",
       "  </tbody>\n",
       "</table>\n",
       "</div>"
      ],
      "text/plain": [
       "                                                File Path  \\\n",
       "count                                              134279   \n",
       "unique                                             134279   \n",
       "top     /media/vatsal/New Volume2/AppliedAI Course Con...   \n",
       "freq                                                    1   \n",
       "\n",
       "                                                File Name Extension  \n",
       "count                                              134279    133721  \n",
       "unique                                             134242        51  \n",
       "top     /media/vatsal/New Volume2/AppliedAI Course Con...      .txt  \n",
       "freq                                                    3    130816  "
      ]
     },
     "execution_count": 3,
     "metadata": {},
     "output_type": "execute_result"
    }
   ],
   "source": [
    "df.describe()"
   ]
  },
  {
   "cell_type": "code",
   "execution_count": 4,
   "metadata": {},
   "outputs": [
    {
     "data": {
      "text/plain": [
       "Extension\n",
       ".txt            130816\n",
       ".class            1037\n",
       ".java              750\n",
       ".mp4               295\n",
       ".mkv               220\n",
       ".pdf               153\n",
       ".ipynb             103\n",
       ".py                 42\n",
       ".zip                28\n",
       ".csv                28\n",
       ".jpg                24\n",
       ".html               22\n",
       ".jar                18\n",
       ".webm               17\n",
       ".properties         15\n",
       ".png                15\n",
       ".vtt                14\n",
       ".h                  11\n",
       ".fdmdownload        10\n",
       ".md                 10\n",
       ".xml                10\n",
       ".mp3                 8\n",
       ".sh                  7\n",
       ".flv                 7\n",
       ".db                  7\n",
       ".json                6\n",
       ".o                   4\n",
       ".rar                 4\n",
       ".m4a                 4\n",
       ".cpp                 4\n",
       ".8                   3\n",
       ".pkl                 3\n",
       ".npz                 3\n",
       ".xlsx                3\n",
       ".pyc                 2\n",
       ".JPG                 2\n",
       ".gz                  2\n",
       ".tsv                 1\n",
       ".dtd                 1\n",
       ".mf                  1\n",
       ".bat                 1\n",
       ".sqlite              1\n",
       ".TXT                 1\n",
       ".MD                  1\n",
       ".part                1\n",
       ".exe                 1\n",
       ".txt~                1\n",
       ".docx                1\n",
       ".whl                 1\n",
       ".pl                  1\n",
       ".xsd                 1\n",
       "Name: count, dtype: int64"
      ]
     },
     "execution_count": 4,
     "metadata": {},
     "output_type": "execute_result"
    }
   ],
   "source": [
    "df['Extension'].value_counts()"
   ]
  }
 ],
 "metadata": {
  "kernelspec": {
   "display_name": "Python 3",
   "language": "python",
   "name": "python3"
  },
  "language_info": {
   "codemirror_mode": {
    "name": "ipython",
    "version": 3
   },
   "file_extension": ".py",
   "mimetype": "text/x-python",
   "name": "python",
   "nbconvert_exporter": "python",
   "pygments_lexer": "ipython3",
   "version": "3.9.18"
  }
 },
 "nbformat": 4,
 "nbformat_minor": 2
}
